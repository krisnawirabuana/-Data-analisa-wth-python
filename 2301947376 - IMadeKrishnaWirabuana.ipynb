{
 "cells": [
  {
   "cell_type": "code",
   "execution_count": 1,
   "id": "e26f1c8c-c0f7-4aab-81c1-9e4394c29032",
   "metadata": {},
   "outputs": [
    {
     "name": "stdout",
     "output_type": "stream",
     "text": [
      "hello pyhton\n"
     ]
    }
   ],
   "source": [
    "print(\"hello pyhton\")"
   ]
  },
  {
   "cell_type": "code",
   "execution_count": 2,
   "id": "63864e06-35c7-4db4-a24a-9dc52c8bfcdd",
   "metadata": {},
   "outputs": [
    {
     "data": {
      "text/plain": [
       "int"
      ]
     },
     "execution_count": 2,
     "metadata": {},
     "output_type": "execute_result"
    }
   ],
   "source": [
    "type(11)"
   ]
  },
  {
   "cell_type": "code",
   "execution_count": 3,
   "id": "89a31a31-9a72-477a-b431-f871729b8a23",
   "metadata": {},
   "outputs": [
    {
     "data": {
      "text/plain": [
       "float"
      ]
     },
     "execution_count": 3,
     "metadata": {},
     "output_type": "execute_result"
    }
   ],
   "source": [
    "type(3.14)"
   ]
  },
  {
   "cell_type": "code",
   "execution_count": 4,
   "id": "4ce62d2f-f78c-464e-9748-7d560369d353",
   "metadata": {},
   "outputs": [
    {
     "data": {
      "text/plain": [
       "str"
      ]
     },
     "execution_count": 4,
     "metadata": {},
     "output_type": "execute_result"
    }
   ],
   "source": [
    "type(\"hello krisna wirabuana\")"
   ]
  },
  {
   "cell_type": "code",
   "execution_count": 5,
   "id": "8ab55140-185e-422f-87ae-60744fbf64e1",
   "metadata": {},
   "outputs": [
    {
     "data": {
      "text/plain": [
       "43"
      ]
     },
     "execution_count": 5,
     "metadata": {},
     "output_type": "execute_result"
    }
   ],
   "source": [
    "3 + 11 + 29"
   ]
  },
  {
   "cell_type": "code",
   "execution_count": 6,
   "id": "c2d9a965-5abe-494b-bacb-24a9c4e0aca4",
   "metadata": {},
   "outputs": [
    {
     "data": {
      "text/plain": [
       "-37"
      ]
     },
     "execution_count": 6,
     "metadata": {},
     "output_type": "execute_result"
    }
   ],
   "source": [
    "3 - 11 - 29"
   ]
  },
  {
   "cell_type": "code",
   "execution_count": 7,
   "id": "557633bf-2617-4628-a1d4-62151879280f",
   "metadata": {},
   "outputs": [
    {
     "data": {
      "text/plain": [
       "16"
      ]
     },
     "execution_count": 7,
     "metadata": {},
     "output_type": "execute_result"
    }
   ],
   "source": [
    "4 * 4"
   ]
  },
  {
   "cell_type": "code",
   "execution_count": 8,
   "id": "12b32ee0-cea4-4cdf-ab0c-3f2fb23e501e",
   "metadata": {},
   "outputs": [
    {
     "data": {
      "text/plain": [
       "3.6666666666666665"
      ]
     },
     "execution_count": 8,
     "metadata": {},
     "output_type": "execute_result"
    }
   ],
   "source": [
    "11 / 3"
   ]
  },
  {
   "cell_type": "code",
   "execution_count": 9,
   "id": "197d474c-a841-4f01-9c43-b9df04d26f40",
   "metadata": {},
   "outputs": [
    {
     "data": {
      "text/plain": [
       "5.0"
      ]
     },
     "execution_count": 9,
     "metadata": {},
     "output_type": "execute_result"
    }
   ],
   "source": [
    "30 / 6"
   ]
  },
  {
   "cell_type": "code",
   "execution_count": 10,
   "id": "13ed0cfa-c5e7-4ffe-a0fe-ab8aa7d4d86d",
   "metadata": {},
   "outputs": [
    {
     "data": {
      "text/plain": [
       "5"
      ]
     },
     "execution_count": 10,
     "metadata": {},
     "output_type": "execute_result"
    }
   ],
   "source": [
    "30 // 6"
   ]
  },
  {
   "cell_type": "code",
   "execution_count": 11,
   "id": "ddfdadd3-db93-49e1-a04c-d9a30403cba6",
   "metadata": {},
   "outputs": [
    {
     "data": {
      "text/plain": [
       "4"
      ]
     },
     "execution_count": 11,
     "metadata": {},
     "output_type": "execute_result"
    }
   ],
   "source": [
    "30 // 7"
   ]
  },
  {
   "cell_type": "code",
   "execution_count": 12,
   "id": "eaa4d2bf-ab2d-46d7-a6d8-1c523e703fc0",
   "metadata": {},
   "outputs": [
    {
     "name": "stdout",
     "output_type": "stream",
     "text": [
      "Krishna \n"
     ]
    }
   ],
   "source": [
    "#Array \n",
    "name = \"Krishna Wirabuana\"\n",
    "print(name[0:8])"
   ]
  },
  {
   "cell_type": "code",
   "execution_count": 13,
   "id": "734d9fb5-4033-46cf-9a71-2af608fe6494",
   "metadata": {},
   "outputs": [
    {
     "data": {
      "text/plain": [
       "17"
      ]
     },
     "execution_count": 13,
     "metadata": {},
     "output_type": "execute_result"
    }
   ],
   "source": [
    "#Panjang Karakter\n",
    "name = \"Krishna Wirabuana\"\n",
    "len(name)"
   ]
  },
  {
   "cell_type": "markdown",
   "id": "3d426f58-a28b-4528-b0fd-df6de221cb8b",
   "metadata": {},
   "source": []
  },
  {
   "cell_type": "code",
   "execution_count": 14,
   "id": "aba595b0-e4b5-4c69-9b6f-f604d1cf3730",
   "metadata": {},
   "outputs": [
    {
     "name": "stdout",
     "output_type": "stream",
     "text": [
      "Krishna Wirabuanabe de best\n"
     ]
    }
   ],
   "source": [
    "name = \"Krishna Wirabuana\"\n",
    "tambah = name + \"be de best\"\n",
    "print(tambah)"
   ]
  },
  {
   "cell_type": "code",
   "execution_count": 15,
   "id": "1a3450b9-69fb-420a-8bb7-5ba9b023efe2",
   "metadata": {},
   "outputs": [
    {
     "data": {
      "text/plain": [
       "' Krishna Wirabuana  Krishna Wirabuana  Krishna Wirabuana '"
      ]
     },
     "execution_count": 15,
     "metadata": {},
     "output_type": "execute_result"
    }
   ],
   "source": [
    "3 * \" Krishna Wirabuana \""
   ]
  },
  {
   "cell_type": "code",
   "execution_count": null,
   "id": "617b9637-74af-4b34-b985-660192ed4181",
   "metadata": {},
   "outputs": [],
   "source": []
  },
  {
   "cell_type": "code",
   "execution_count": null,
   "id": "99fa0318-e48d-4116-9cc8-0a5b65c90a12",
   "metadata": {},
   "outputs": [],
   "source": []
  }
 ],
 "metadata": {
  "kernelspec": {
   "display_name": "Python 3 (ipykernel)",
   "language": "python",
   "name": "python3"
  },
  "language_info": {
   "codemirror_mode": {
    "name": "ipython",
    "version": 3
   },
   "file_extension": ".py",
   "mimetype": "text/x-python",
   "name": "python",
   "nbconvert_exporter": "python",
   "pygments_lexer": "ipython3",
   "version": "3.9.7"
  }
 },
 "nbformat": 4,
 "nbformat_minor": 5
}
